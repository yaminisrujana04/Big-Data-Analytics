{
 "cells": [
  {
   "cell_type": "code",
   "execution_count": 1,
   "id": "98fb5c6b-e8e7-4d41-b698-14760299eb57",
   "metadata": {},
   "outputs": [
    {
     "data": {
      "text/html": [
       "\n",
       "        <div>\n",
       "            <p><b>SparkContext</b></p>\n",
       "\n",
       "            <p><a href=\"http://santhoshreddy:4043\">Spark UI</a></p>\n",
       "\n",
       "            <dl>\n",
       "              <dt>Version</dt>\n",
       "                <dd><code>v4.0.1</code></dd>\n",
       "              <dt>Master</dt>\n",
       "                <dd><code>local[*]</code></dd>\n",
       "              <dt>AppName</dt>\n",
       "                <dd><code>PySparkShell</code></dd>\n",
       "            </dl>\n",
       "        </div>\n",
       "        "
      ],
      "text/plain": [
       "<SparkContext master=local[*] appName=PySparkShell>"
      ]
     },
     "execution_count": 1,
     "metadata": {},
     "output_type": "execute_result"
    }
   ],
   "source": [
    "sc"
   ]
  },
  {
   "cell_type": "code",
   "execution_count": 2,
   "id": "2429cdbb-fc17-41db-adce-5652f81c8cdd",
   "metadata": {},
   "outputs": [],
   "source": [
    "from pyspark.sql import SparkSession\n",
    "from pyspark.sql.functions import col, avg, max, min, round, count\n",
    "# Step 1: Initialize Spark Session\n",
    "spark = SparkSession.builder.appName(\"StudentsAnalytics\").getOrCreate()"
   ]
  },
  {
   "cell_type": "code",
   "execution_count": 3,
   "id": "e29bd5a8-02d5-4bd8-815d-9dabfad2d19c",
   "metadata": {},
   "outputs": [],
   "source": [
    "df = spark.read.csv(\"students.csv\", header=True, inferSchema=True)"
   ]
  },
  {
   "cell_type": "code",
   "execution_count": 4,
   "id": "5f64d23d-3a3a-4ea8-8949-a375af0f7f41",
   "metadata": {},
   "outputs": [
    {
     "name": "stdout",
     "output_type": "stream",
     "text": [
      "=== First 5 rows ===\n",
      "+---+-------+---+------+----+-------+-------+\n",
      "| id|   name|age|gender|math|science|english|\n",
      "+---+-------+---+------+----+-------+-------+\n",
      "|  1|  Alice| 20|     F|  66|     92|     44|\n",
      "|  2|    Bob| 20|     M|  82|     52|     77|\n",
      "|  3|Charlie| 22|     F|  43|     57|     76|\n",
      "|  4|  David| 19|     M|  95|     69|     46|\n",
      "|  5|    Eva| 19|     F|  62|     44|     96|\n",
      "+---+-------+---+------+----+-------+-------+\n",
      "only showing top 5 rows\n"
     ]
    }
   ],
   "source": [
    "print(\"=== First 5 rows ===\")\n",
    "df.show(5)"
   ]
  },
  {
   "cell_type": "code",
   "execution_count": 5,
   "id": "82e86929-b86b-41c5-999f-4450ad94a37a",
   "metadata": {},
   "outputs": [
    {
     "name": "stdout",
     "output_type": "stream",
     "text": [
      "=== Schema ===\n",
      "root\n",
      " |-- id: integer (nullable = true)\n",
      " |-- name: string (nullable = true)\n",
      " |-- age: integer (nullable = true)\n",
      " |-- gender: string (nullable = true)\n",
      " |-- math: integer (nullable = true)\n",
      " |-- science: integer (nullable = true)\n",
      " |-- english: integer (nullable = true)\n",
      "\n"
     ]
    }
   ],
   "source": [
    "print(\"=== Schema ===\")\n",
    "df.printSchema()"
   ]
  },
  {
   "cell_type": "code",
   "execution_count": 6,
   "id": "b0c3205d-b48f-42b0-9223-25e33f78a574",
   "metadata": {},
   "outputs": [
    {
     "name": "stdout",
     "output_type": "stream",
     "text": [
      "Total rows: 50\n"
     ]
    }
   ],
   "source": [
    "print(\"Total rows:\", df.count())"
   ]
  },
  {
   "cell_type": "code",
   "execution_count": 7,
   "id": "6a3af5bf-17f5-46c6-8fdb-23f882b93678",
   "metadata": {},
   "outputs": [
    {
     "name": "stdout",
     "output_type": "stream",
     "text": [
      "=== Summary Statistics ===\n",
      "+-------+------------------+-----+------------------+------+------------------+------------------+-----------------+\n",
      "|summary|                id| name|               age|gender|              math|           science|          english|\n",
      "+-------+------------------+-----+------------------+------+------------------+------------------+-----------------+\n",
      "|  count|                50|   50|                50|    50|                50|                50|               50|\n",
      "|   mean|              25.5| NULL|              21.5|  NULL|             68.94|             70.16|            69.36|\n",
      "| stddev|14.577379737113251| NULL|2.2337851101588404|  NULL|17.609610085034216|14.636214521186957|18.74507826560544|\n",
      "|    min|                 1|Aaron|                18|     F|                40|                44|               42|\n",
      "|    max|                50| Zoey|                25|     M|               100|                99|              100|\n",
      "+-------+------------------+-----+------------------+------+------------------+------------------+-----------------+\n",
      "\n"
     ]
    }
   ],
   "source": [
    "print(\"=== Summary Statistics ===\")\n",
    "df.describe().show()"
   ]
  },
  {
   "cell_type": "code",
   "execution_count": 8,
   "id": "fcf8e544-b040-4763-8fbc-c07cd0612bb2",
   "metadata": {},
   "outputs": [
    {
     "name": "stdout",
     "output_type": "stream",
     "text": [
      "=== Students with math >= 80 ===\n",
      "+---+------+----+\n",
      "| id|  name|math|\n",
      "+---+------+----+\n",
      "|  2|   Bob|  82|\n",
      "|  4| David|  95|\n",
      "| 11| Kathy|  85|\n",
      "| 12|   Leo|  97|\n",
      "| 15|Olivia|  87|\n",
      "| 20|  Tina| 100|\n",
      "| 21|   Uma|  89|\n",
      "| 22|Victor|  96|\n",
      "| 25|  Yara| 100|\n",
      "| 27| Aaron|  81|\n",
      "+---+------+----+\n",
      "only showing top 10 rows\n"
     ]
    }
   ],
   "source": [
    "print(\"=== Students with math >= 80 ===\")\n",
    "df.filter(col(\"math\") >= 80).select(\"id\", \"name\", \"math\").show(10)"
   ]
  },
  {
   "cell_type": "code",
   "execution_count": 9,
   "id": "a4393403-be53-4447-8362-b1ebd36ab69a",
   "metadata": {},
   "outputs": [
    {
     "name": "stdout",
     "output_type": "stream",
     "text": [
      "=== Average marks per subject ===\n",
      "+--------+-----------+-----------+\n",
      "|avg_math|avg_science|avg_english|\n",
      "+--------+-----------+-----------+\n",
      "|   68.94|      70.16|      69.36|\n",
      "+--------+-----------+-----------+\n",
      "\n"
     ]
    }
   ],
   "source": [
    "print(\"=== Average marks per subject ===\")\n",
    "df.select(\n",
    " round(avg(\"math\"),2).alias(\"avg_math\"),\n",
    " round(avg(\"science\"),2).alias(\"avg_science\"),\n",
    " round(avg(\"english\"),2).alias(\"avg_english\")\n",
    ").show()"
   ]
  },
  {
   "cell_type": "code",
   "execution_count": null,
   "id": "11455160-c317-4c6c-9b3a-b03504292454",
   "metadata": {},
   "outputs": [],
   "source": []
  }
 ],
 "metadata": {
  "kernelspec": {
   "display_name": "Python 3 (ipykernel)",
   "language": "python",
   "name": "python3"
  },
  "language_info": {
   "codemirror_mode": {
    "name": "ipython",
    "version": 3
   },
   "file_extension": ".py",
   "mimetype": "text/x-python",
   "name": "python",
   "nbconvert_exporter": "python",
   "pygments_lexer": "ipython3",
   "version": "3.11.9"
  }
 },
 "nbformat": 4,
 "nbformat_minor": 5
}
