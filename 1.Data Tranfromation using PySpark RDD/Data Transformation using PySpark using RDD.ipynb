{
 "cells": [
  {
   "cell_type": "code",
   "execution_count": 1,
   "id": "821e76df-631d-4731-a3b3-4d156eafa9fc",
   "metadata": {},
   "outputs": [
    {
     "data": {
      "text/html": [
       "\n",
       "        <div>\n",
       "            <p><b>SparkContext</b></p>\n",
       "\n",
       "            <p><a href=\"http://santhoshreddy:4044\">Spark UI</a></p>\n",
       "\n",
       "            <dl>\n",
       "              <dt>Version</dt>\n",
       "                <dd><code>v4.0.1</code></dd>\n",
       "              <dt>Master</dt>\n",
       "                <dd><code>local[*]</code></dd>\n",
       "              <dt>AppName</dt>\n",
       "                <dd><code>PySparkShell</code></dd>\n",
       "            </dl>\n",
       "        </div>\n",
       "        "
      ],
      "text/plain": [
       "<SparkContext master=local[*] appName=PySparkShell>"
      ]
     },
     "execution_count": 1,
     "metadata": {},
     "output_type": "execute_result"
    }
   ],
   "source": [
    "sc"
   ]
  },
  {
   "cell_type": "code",
   "execution_count": 2,
   "id": "fda003cb-e693-43e1-a1be-a6f1e05133a2",
   "metadata": {},
   "outputs": [],
   "source": [
    "import random"
   ]
  },
  {
   "cell_type": "code",
   "execution_count": 3,
   "id": "0e6d9813-d70a-437f-88d2-aa427df410c7",
   "metadata": {},
   "outputs": [
    {
     "name": "stdout",
     "output_type": "stream",
     "text": [
      "Original List:\n",
      "[430, 884, 236, 393, 421, 542, 852, 508, 336, 353, 968, 958, 896, 226, 71, 903, 774, 742, 85, 127, 993, 337, 733, 432, 374, 63, 240, 626, 720, 761, 793, 673, 26, 720, 732, 509, 206, 476, 369, 857, 655, 450, 219, 182, 940, 374, 177, 656, 77, 6, 862, 104, 379, 884, 613, 828, 310, 697, 207, 475, 210, 139, 232, 461, 316, 887, 643, 635, 458, 335, 615, 259, 199, 857, 764, 970, 365, 66, 43, 917, 749, 806, 522, 852, 814, 447, 740, 714, 811, 413, 495, 701, 933, 320, 376, 613, 754, 365, 829, 319]\n"
     ]
    }
   ],
   "source": [
    "random_numbers = [random.randint(1, 1000) for _ in range(100)]\n",
    "print(\"Original List:\")\n",
    "print(random_numbers)"
   ]
  },
  {
   "cell_type": "code",
   "execution_count": 4,
   "id": "51626fea-8ee0-4efc-b41d-ca87a8cb6d82",
   "metadata": {},
   "outputs": [],
   "source": [
    "numbers_rdd = sc.parallelize(random_numbers)"
   ]
  },
  {
   "cell_type": "code",
   "execution_count": 5,
   "id": "599268c1-35c8-4522-97fd-60198442ccf3",
   "metadata": {},
   "outputs": [],
   "source": [
    "even_numbers_rdd = numbers_rdd.filter(lambda x: x % 2 == 0)"
   ]
  },
  {
   "cell_type": "code",
   "execution_count": 6,
   "id": "6e695a04-e8f8-4119-8472-5aa4d20de089",
   "metadata": {},
   "outputs": [
    {
     "name": "stdout",
     "output_type": "stream",
     "text": [
      "\n",
      "Even Numbers:\n",
      "[430, 884, 236, 542, 852, 508, 336, 968, 958, 896, 226, 774, 742, 432, 374, 240, 626, 720, 26, 720, 732, 206, 476, 450, 182, 940, 374, 656, 6, 862, 104, 884, 828, 310, 210, 232, 316, 458, 764, 970, 66, 806, 522, 852, 814, 740, 714, 320, 376, 754]\n"
     ]
    }
   ],
   "source": [
    "even_numbers = even_numbers_rdd.collect()\n",
    "print(\"\\nEven Numbers:\")\n",
    "print(even_numbers)"
   ]
  },
  {
   "cell_type": "code",
   "execution_count": null,
   "id": "2c80fc98-4b42-4afa-a295-a7220307bcc0",
   "metadata": {},
   "outputs": [],
   "source": []
  }
 ],
 "metadata": {
  "kernelspec": {
   "display_name": "Python 3 (ipykernel)",
   "language": "python",
   "name": "python3"
  },
  "language_info": {
   "codemirror_mode": {
    "name": "ipython",
    "version": 3
   },
   "file_extension": ".py",
   "mimetype": "text/x-python",
   "name": "python",
   "nbconvert_exporter": "python",
   "pygments_lexer": "ipython3",
   "version": "3.11.9"
  }
 },
 "nbformat": 4,
 "nbformat_minor": 5
}
